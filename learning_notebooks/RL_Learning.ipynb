{
  "nbformat": 4,
  "nbformat_minor": 0,
  "metadata": {
    "colab": {
      "name": "RL_Learning.ipynb",
      "provenance": []
    },
    "kernelspec": {
      "name": "python3",
      "display_name": "Python 3"
    },
    "language_info": {
      "name": "python"
    }
  },
  "cells": [
    {
      "cell_type": "markdown",
      "metadata": {
        "id": "hAaSsjq9Yviz"
      },
      "source": [
        "Psuedocode:\n",
        "\n",
        "    env = ... # given: some environment object\n",
        "    Q = random\n",
        "    for i in range(num_episodes):\n",
        "        s = env.reset()\n",
        "        done = False\n",
        "        while not done:\n",
        "            a = choose_action(Q,s)\n",
        "            s`, r, done = env.step(a)\n",
        "\n",
        "            # Update Q\n",
        "            y = r + gamma * max_a`{ Q(s`,a`) }\n",
        "            Q(s,a) = Q(s,a) + learning_rate * (y - Q(s,a))\n",
        "\n",
        "            # important: update the current state\n",
        "            s = s`"
      ]
    },
    {
      "cell_type": "code",
      "metadata": {
        "colab": {
          "base_uri": "https://localhost:8080/"
        },
        "id": "2iZ9xy7KYrYg",
        "outputId": "95ceccd4-6ba6-4d6d-f489-fea99bdd5feb"
      },
      "source": [
        "!git clone https://github.com/lazyprogrammer/machine_learning_examples.git"
      ],
      "execution_count": null,
      "outputs": [
        {
          "output_type": "stream",
          "text": [
            "fatal: destination path 'machine_learning_examples' already exists and is not an empty directory.\n"
          ],
          "name": "stdout"
        }
      ]
    },
    {
      "cell_type": "code",
      "metadata": {
        "colab": {
          "base_uri": "https://localhost:8080/"
        },
        "id": "wUv2wtdPds2I",
        "outputId": "b573d5aa-12c2-4065-a662-9fab0849f72a"
      },
      "source": [
        "!git clone https://github.com/openai/gym.git"
      ],
      "execution_count": null,
      "outputs": [
        {
          "output_type": "stream",
          "text": [
            "Cloning into 'gym'...\n",
            "remote: Enumerating objects: 10906, done.\u001b[K\n",
            "remote: Counting objects: 100% (22/22), done.\u001b[K\n",
            "remote: Compressing objects: 100% (18/18), done.\u001b[K\n",
            "remote: Total 10906 (delta 7), reused 14 (delta 4), pack-reused 10884\u001b[K\n",
            "Receiving objects: 100% (10906/10906), 4.17 MiB | 21.57 MiB/s, done.\n",
            "Resolving deltas: 100% (7380/7380), done.\n",
            "\u001b[31mERROR: File \"setup.py\" not found. Directory cannot be installed in editable mode: /content\u001b[0m\n"
          ],
          "name": "stdout"
        }
      ]
    },
    {
      "cell_type": "code",
      "metadata": {
        "colab": {
          "base_uri": "https://localhost:8080/"
        },
        "id": "iwqmuI8feGGw",
        "outputId": "8b08379c-b183-417b-f27a-bc4b64eaa13f"
      },
      "source": [
        "!cd gym && pip install -e ."
      ],
      "execution_count": null,
      "outputs": [
        {
          "output_type": "stream",
          "text": [
            "Obtaining file:///content/gym\n",
            "Requirement already satisfied: scipy in /usr/local/lib/python3.7/dist-packages (from gym==0.18.0) (1.4.1)\n",
            "Requirement already satisfied: numpy>=1.10.4 in /usr/local/lib/python3.7/dist-packages (from gym==0.18.0) (1.19.5)\n",
            "Requirement already satisfied: pyglet<=1.5.15,>=1.4.0 in /usr/local/lib/python3.7/dist-packages (from gym==0.18.0) (1.5.0)\n",
            "Requirement already satisfied: Pillow<=8.2.0 in /usr/local/lib/python3.7/dist-packages (from gym==0.18.0) (7.1.2)\n",
            "Requirement already satisfied: cloudpickle<1.7.0,>=1.2.0 in /usr/local/lib/python3.7/dist-packages (from gym==0.18.0) (1.3.0)\n",
            "Requirement already satisfied: future in /usr/local/lib/python3.7/dist-packages (from pyglet<=1.5.15,>=1.4.0->gym==0.18.0) (0.16.0)\n",
            "Installing collected packages: gym\n",
            "  Found existing installation: gym 0.17.3\n",
            "    Uninstalling gym-0.17.3:\n",
            "      Successfully uninstalled gym-0.17.3\n",
            "  Running setup.py develop for gym\n",
            "Successfully installed gym\n"
          ],
          "name": "stdout"
        }
      ]
    },
    {
      "cell_type": "code",
      "metadata": {
        "id": "59kxOIGteQlo"
      },
      "source": [
        "import gym"
      ],
      "execution_count": null,
      "outputs": []
    },
    {
      "cell_type": "code",
      "metadata": {
        "id": "xwKcrzPvebpF"
      },
      "source": [
        "env = gym.make('CartPole-v0')"
      ],
      "execution_count": null,
      "outputs": []
    },
    {
      "cell_type": "code",
      "metadata": {
        "colab": {
          "base_uri": "https://localhost:8080/"
        },
        "id": "P3RELhKlegd0",
        "outputId": "9fef7d4c-eaaa-4f1c-962c-dbbfe76fabf0"
      },
      "source": [
        "env.reset()"
      ],
      "execution_count": null,
      "outputs": [
        {
          "output_type": "execute_result",
          "data": {
            "text/plain": [
              "array([ 0.02238998, -0.02892902, -0.04687467, -0.00588798])"
            ]
          },
          "metadata": {
            "tags": []
          },
          "execution_count": 6
        }
      ]
    },
    {
      "cell_type": "code",
      "metadata": {
        "id": "ftFFwmvofC_f"
      },
      "source": [
        "box = env.observation_space"
      ],
      "execution_count": null,
      "outputs": []
    },
    {
      "cell_type": "code",
      "metadata": {
        "colab": {
          "base_uri": "https://localhost:8080/"
        },
        "id": "IA-InAOHfTTt",
        "outputId": "4482039c-dc14-4060-9693-450019fcd5cf"
      },
      "source": [
        "box.__dir__()"
      ],
      "execution_count": null,
      "outputs": [
        {
          "output_type": "execute_result",
          "data": {
            "text/plain": [
              "['dtype',\n",
              " 'shape',\n",
              " 'low',\n",
              " 'high',\n",
              " 'bounded_below',\n",
              " 'bounded_above',\n",
              " '_np_random',\n",
              " '__module__',\n",
              " '__doc__',\n",
              " '__init__',\n",
              " 'is_bounded',\n",
              " 'sample',\n",
              " 'contains',\n",
              " 'to_jsonable',\n",
              " 'from_jsonable',\n",
              " '__repr__',\n",
              " '__eq__',\n",
              " '__hash__',\n",
              " 'np_random',\n",
              " 'seed',\n",
              " '__contains__',\n",
              " '__dict__',\n",
              " '__weakref__',\n",
              " '__str__',\n",
              " '__getattribute__',\n",
              " '__setattr__',\n",
              " '__delattr__',\n",
              " '__lt__',\n",
              " '__le__',\n",
              " '__ne__',\n",
              " '__gt__',\n",
              " '__ge__',\n",
              " '__new__',\n",
              " '__reduce_ex__',\n",
              " '__reduce__',\n",
              " '__subclasshook__',\n",
              " '__init_subclass__',\n",
              " '__format__',\n",
              " '__sizeof__',\n",
              " '__dir__',\n",
              " '__class__']"
            ]
          },
          "metadata": {
            "tags": []
          },
          "execution_count": 8
        }
      ]
    },
    {
      "cell_type": "code",
      "metadata": {
        "colab": {
          "base_uri": "https://localhost:8080/"
        },
        "id": "VITtgDcLfUje",
        "outputId": "fc8d3db0-da82-4a1a-9a16-de546ca62ae5"
      },
      "source": [
        "env.action_space"
      ],
      "execution_count": null,
      "outputs": [
        {
          "output_type": "execute_result",
          "data": {
            "text/plain": [
              "Discrete(2)"
            ]
          },
          "metadata": {
            "tags": []
          },
          "execution_count": 9
        }
      ]
    },
    {
      "cell_type": "code",
      "metadata": {
        "colab": {
          "base_uri": "https://localhost:8080/"
        },
        "id": "uz5EeV3Yfdeb",
        "outputId": "24ca924e-c526-49f6-8e03-4c2c25294f40"
      },
      "source": [
        "env.action_space.__dir__()"
      ],
      "execution_count": null,
      "outputs": [
        {
          "output_type": "execute_result",
          "data": {
            "text/plain": [
              "['n',\n",
              " 'shape',\n",
              " 'dtype',\n",
              " '_np_random',\n",
              " '__module__',\n",
              " '__doc__',\n",
              " '__init__',\n",
              " 'sample',\n",
              " 'contains',\n",
              " '__repr__',\n",
              " '__eq__',\n",
              " '__hash__',\n",
              " 'np_random',\n",
              " 'seed',\n",
              " '__contains__',\n",
              " 'to_jsonable',\n",
              " 'from_jsonable',\n",
              " '__dict__',\n",
              " '__weakref__',\n",
              " '__str__',\n",
              " '__getattribute__',\n",
              " '__setattr__',\n",
              " '__delattr__',\n",
              " '__lt__',\n",
              " '__le__',\n",
              " '__ne__',\n",
              " '__gt__',\n",
              " '__ge__',\n",
              " '__new__',\n",
              " '__reduce_ex__',\n",
              " '__reduce__',\n",
              " '__subclasshook__',\n",
              " '__init_subclass__',\n",
              " '__format__',\n",
              " '__sizeof__',\n",
              " '__dir__',\n",
              " '__class__']"
            ]
          },
          "metadata": {
            "tags": []
          },
          "execution_count": 10
        }
      ]
    },
    {
      "cell_type": "code",
      "metadata": {
        "colab": {
          "base_uri": "https://localhost:8080/"
        },
        "id": "WO_cuoLtfrKo",
        "outputId": "b9e461e7-c6ac-4cbc-919c-4bf10e653c1f"
      },
      "source": [
        "done = False\n",
        "iter = 0\n",
        "while not done:\n",
        "  observation, reward, done, _ = env.step(env.action_space.sample())\n",
        "  iter += 1\n",
        "print(iter)"
      ],
      "execution_count": null,
      "outputs": [
        {
          "output_type": "stream",
          "text": [
            "32\n"
          ],
          "name": "stdout"
        }
      ]
    },
    {
      "cell_type": "code",
      "metadata": {
        "id": "dYFGAmKmgNxb"
      },
      "source": [
        "from __future__ import print_function, division\n",
        "from builtins import range\n",
        "import numpy as np\n",
        "import matplotlib.pyplot as plt"
      ],
      "execution_count": null,
      "outputs": []
    },
    {
      "cell_type": "code",
      "metadata": {
        "id": "XaxgoqiThXhh"
      },
      "source": [
        "def get_action(s,w):\n",
        "  return 1 if s.dot(w) > 0 else 0"
      ],
      "execution_count": null,
      "outputs": []
    },
    {
      "cell_type": "code",
      "metadata": {
        "id": "_2E4EU6wheu1"
      },
      "source": [
        "def play_one_episode(env, params):\n",
        "  observation = env.reset()\n",
        "  done = False\n",
        "  t = 0\n",
        "\n",
        "  while not done and t < 10000:\n",
        "    #env.render()\n",
        "    t += 1\n",
        "    action = get_action(observation, params)\n",
        "    observation, reward, done, info = env.step(action)\n",
        "    if done:\n",
        "      break\n",
        "  \n",
        "  return t"
      ],
      "execution_count": null,
      "outputs": []
    },
    {
      "cell_type": "code",
      "metadata": {
        "id": "9YxpdpBCiC7Y"
      },
      "source": [
        "def play_multiple_episodes(env, T, params):\n",
        "  episode_lengths = np.empty(T)\n",
        "\n",
        "  for i in range(T):\n",
        "    episode_lengths[i] = play_one_episode(env, params)\n",
        "  \n",
        "  avg_length = episode_lengths.mean()\n",
        "  print(\"avg_length: \", avg_length)\n",
        "  return avg_length"
      ],
      "execution_count": null,
      "outputs": []
    },
    {
      "cell_type": "code",
      "metadata": {
        "id": "_p0AQOiQibyr"
      },
      "source": [
        "def random_search(env, iters):\n",
        "  episode_lengths = []\n",
        "  best = 0\n",
        "  params = None\n",
        "  for t in range(100):\n",
        "    new_params = np.random.random(4)*2 - 1\n",
        "    avg_length = play_multiple_episodes(env, iters, new_params)\n",
        "    episode_lengths.append(avg_length)\n",
        "\n",
        "    if avg_length > best:\n",
        "      params = new_params\n",
        "      best = avg_length\n",
        "  \n",
        "  return episode_lengths, params\n"
      ],
      "execution_count": null,
      "outputs": []
    },
    {
      "cell_type": "code",
      "metadata": {
        "colab": {
          "base_uri": "https://localhost:8080/",
          "height": 1000
        },
        "id": "xJRpxey_jA3S",
        "outputId": "a6d71e6c-663e-46cd-c67c-67631c89ecca"
      },
      "source": [
        "env = gym.make('CartPole-v0')\n",
        "episode_lengths, params = random_search(env, 500)\n",
        "plt.plot(episode_lengths)"
      ],
      "execution_count": null,
      "outputs": [
        {
          "output_type": "stream",
          "text": [
            "avg_length:  9.452\n",
            "avg_length:  149.828\n",
            "avg_length:  40.87\n",
            "avg_length:  9.652\n",
            "avg_length:  9.438\n",
            "avg_length:  23.114\n",
            "avg_length:  92.714\n",
            "avg_length:  9.756\n",
            "avg_length:  177.97\n",
            "avg_length:  96.936\n",
            "avg_length:  37.256\n",
            "avg_length:  9.186\n",
            "avg_length:  24.81\n",
            "avg_length:  55.822\n",
            "avg_length:  21.342\n",
            "avg_length:  146.218\n",
            "avg_length:  9.094\n",
            "avg_length:  8.808\n",
            "avg_length:  54.46\n",
            "avg_length:  180.204\n",
            "avg_length:  9.694\n",
            "avg_length:  8.95\n",
            "avg_length:  95.714\n",
            "avg_length:  48.624\n",
            "avg_length:  54.164\n",
            "avg_length:  9.382\n",
            "avg_length:  74.298\n",
            "avg_length:  9.038\n",
            "avg_length:  9.244\n",
            "avg_length:  9.626\n",
            "avg_length:  114.452\n",
            "avg_length:  99.582\n",
            "avg_length:  96.298\n",
            "avg_length:  114.152\n",
            "avg_length:  8.882\n",
            "avg_length:  80.06\n",
            "avg_length:  88.596\n",
            "avg_length:  8.85\n",
            "avg_length:  9.48\n",
            "avg_length:  106.634\n",
            "avg_length:  8.834\n",
            "avg_length:  18.576\n",
            "avg_length:  100.118\n",
            "avg_length:  35.832\n",
            "avg_length:  9.032\n",
            "avg_length:  8.846\n",
            "avg_length:  143.722\n",
            "avg_length:  9.716\n",
            "avg_length:  9.434\n",
            "avg_length:  89.022\n",
            "avg_length:  52.036\n",
            "avg_length:  9.602\n",
            "avg_length:  9.612\n",
            "avg_length:  8.934\n",
            "avg_length:  9.138\n",
            "avg_length:  59.67\n",
            "avg_length:  9.012\n",
            "avg_length:  64.394\n",
            "avg_length:  101.9\n",
            "avg_length:  9.612\n",
            "avg_length:  9.062\n",
            "avg_length:  9.672\n",
            "avg_length:  9.036\n",
            "avg_length:  9.228\n",
            "avg_length:  9.092\n",
            "avg_length:  18.99\n",
            "avg_length:  30.158\n",
            "avg_length:  112.504\n",
            "avg_length:  9.616\n",
            "avg_length:  9.556\n",
            "avg_length:  158.89\n",
            "avg_length:  9.078\n",
            "avg_length:  9.68\n",
            "avg_length:  9.24\n",
            "avg_length:  105.07\n",
            "avg_length:  106.794\n",
            "avg_length:  9.358\n",
            "avg_length:  79.884\n",
            "avg_length:  9.764\n",
            "avg_length:  8.98\n",
            "avg_length:  43.26\n",
            "avg_length:  199.436\n",
            "avg_length:  67.712\n",
            "avg_length:  9.044\n",
            "avg_length:  29.678\n",
            "avg_length:  9.066\n",
            "avg_length:  9.47\n",
            "avg_length:  9.59\n",
            "avg_length:  9.612\n",
            "avg_length:  192.06\n",
            "avg_length:  9.142\n",
            "avg_length:  200.0\n",
            "avg_length:  40.674\n",
            "avg_length:  126.656\n",
            "avg_length:  9.24\n",
            "avg_length:  9.472\n",
            "avg_length:  8.844\n",
            "avg_length:  9.11\n",
            "avg_length:  62.452\n",
            "avg_length:  153.152\n"
          ],
          "name": "stdout"
        },
        {
          "output_type": "execute_result",
          "data": {
            "text/plain": [
              "[<matplotlib.lines.Line2D at 0x7f857573ae50>]"
            ]
          },
          "metadata": {
            "tags": []
          },
          "execution_count": 22
        },
        {
          "output_type": "display_data",
          "data": {
            "image/png": "[encoded data removed]",
            "text/plain": [
              "<Figure size 432x288 with 1 Axes>"
            ]
          },
          "metadata": {
            "tags": [],
            "needs_background": "light"
          }
        }
      ]
    },
    {
      "cell_type": "code",
      "metadata": {
        "colab": {
          "base_uri": "https://localhost:8080/"
        },
        "id": "T41uiOZCjSvN",
        "outputId": "b68bb62e-af93-43ac-95c9-049c46935a0e"
      },
      "source": [
        "play_multiple_episodes(env, 100, params)"
      ],
      "execution_count": null,
      "outputs": [
        {
          "output_type": "stream",
          "text": [
            "avg_length:  200.0\n"
          ],
          "name": "stdout"
        },
        {
          "output_type": "execute_result",
          "data": {
            "text/plain": [
              "200.0"
            ]
          },
          "metadata": {
            "tags": []
          },
          "execution_count": 23
        }
      ]
    },
    {
      "cell_type": "code",
      "metadata": {
        "id": "k3ZctDlvjzvw"
      },
      "source": [
        "# if we want to 'watch' the agent\n",
        "\n",
        "# import gym\n",
        "# from gym import wrappers\n",
        "# env = gym.make('CartPole-v0')\n",
        "# env = wrappers.Monitor(env, 'agent_in_action')\n",
        "\n",
        "#proceed with learning"
      ],
      "execution_count": null,
      "outputs": []
    },
    {
      "cell_type": "code",
      "metadata": {
        "id": "QXmAqoX6kbm2"
      },
      "source": [
        "import os\n",
        "import sys\n",
        "import pandas as pd\n",
        "from datetime import datetime"
      ],
      "execution_count": null,
      "outputs": []
    },
    {
      "cell_type": "code",
      "metadata": {
        "id": "1yynyfFbmVF4"
      },
      "source": [
        "def build_state(features):\n",
        "  return int(\"\".join(map(lambda feature: str(int(feature)), features)))"
      ],
      "execution_count": null,
      "outputs": []
    },
    {
      "cell_type": "code",
      "metadata": {
        "id": "blCsbsWimiK8"
      },
      "source": [
        "def to_bin(value, bins):\n",
        "  return np.digitize(x=[value], bins=bins)[0]"
      ],
      "execution_count": null,
      "outputs": []
    },
    {
      "cell_type": "code",
      "metadata": {
        "id": "o6bi1MfympcN"
      },
      "source": [
        "class FeatureTransformer:\n",
        "  def __init__(self):\n",
        "    self.cart_position_bins = np.linspace(-2.4,2.4,9)\n",
        "    self.cart_velocity_bins = np.linspace(-2,2,9)\n",
        "    self.pole_angle_bins = np.linspace(-0.4,0.4,9)\n",
        "    self.pole_velocity_bins = np.linspace(-3.5,3.5,9)\n",
        "\n",
        "  def transform(self, observation):\n",
        "    #returns an int\n",
        "    cart_pos, cart_vel, pole_angle, pole_vel = observation\n",
        "    return build_state([\n",
        "                        to_bin(cart_pos, self.cart_position_bins),\n",
        "                        to_bin(cart_vel, self.cart_velocity_bins),\n",
        "                        to_bin(pole_angle, self.pole_angle_bins),\n",
        "                        to_bin(pole_vel, self.pole_velocity_bins)\n",
        "    ])"
      ],
      "execution_count": null,
      "outputs": []
    },
    {
      "cell_type": "code",
      "metadata": {
        "id": "EGACfHcbnAcF"
      },
      "source": [
        "class Model:\n",
        "  def __init__(self, env, feature_transformer):\n",
        "    self.env = env\n",
        "    self.feature_transformer = feature_transformer\n",
        "\n",
        "    num_states = 10**env.observation_space.shape[0]\n",
        "    num_actions = env.action_space.n\n",
        "    self.Q = np.random.uniform(low=1, high=1, size=(num_states, num_actions))\n",
        "\n",
        "  def predict(self, s):\n",
        "    x = self.feature_transformer.transform(s)\n",
        "    return self.Q[x]\n",
        "\n",
        "  def update(self, s, a, G):\n",
        "    x = self.feature_transformer.transform(s)\n",
        "    self.Q[x,a] += 10e-3*(G - self.Q[x,a])\n",
        "  \n",
        "  def sample_action(self, s, eps):\n",
        "    if np.random.random() < eps:\n",
        "      return self.env.action_space.sample()\n",
        "    else:\n",
        "      p = self.predict(s)\n",
        "      return np.argmax(p)"
      ],
      "execution_count": null,
      "outputs": []
    },
    {
      "cell_type": "code",
      "metadata": {
        "id": "ZLbch6KQogCc"
      },
      "source": [
        "def play_one(model, eps, gamma):\n",
        "  observation = env.reset()\n",
        "  done = False\n",
        "  totalreward = 0\n",
        "  iters = 0\n",
        "  while not done and iters < 10000:\n",
        "    action = model.sample_action(observation, eps)\n",
        "    prev_observation = observation\n",
        "    observation, reward, done, info = env.step(action)\n",
        "\n",
        "    totalreward += reward\n",
        "\n",
        "    if done and iters<199:\n",
        "      reward -= 300\n",
        "    \n",
        "    #update model\n",
        "    G = reward + gamma*np.max(model.predict(observation))\n",
        "    model.update(prev_observation, action, G)\n",
        "\n",
        "    iters += 1\n",
        "\n",
        "  return totalreward"
      ],
      "execution_count": null,
      "outputs": []
    },
    {
      "cell_type": "code",
      "metadata": {
        "id": "dTa6QfjEpIU5"
      },
      "source": [
        "def plot_running_avg(totalrewards):\n",
        "  N = len(totalrewards)\n",
        "  running_avg = np.empty(N)\n",
        "  for t in range(N):\n",
        "    running_avg[t] = totalrewards[max(0, t-100):(t+1)].mean()\n",
        "  plt.plot(running_avg)"
      ],
      "execution_count": null,
      "outputs": []
    },
    {
      "cell_type": "code",
      "metadata": {
        "colab": {
          "base_uri": "https://localhost:8080/",
          "height": 1000
        },
        "id": "aryds4vupgRY",
        "outputId": "1183b202-2973-475c-af0c-0f20beb5ef5f"
      },
      "source": [
        "env = gym.make('CartPole-v0')\n",
        "ft = FeatureTransformer()\n",
        "model = Model(env, ft)\n",
        "gamma = 0.9\n",
        "N = 10000\n",
        "totalrewards = np.empty(N)\n",
        "for n in range(N):\n",
        "  eps = 1.0/np.sqrt(n+1)\n",
        "  totalreward = play_one(model, eps, gamma)\n",
        "  totalrewards[n] = totalreward\n",
        "  if n % 100 == 0:\n",
        "    print(\"episode: \", n, \" total reward: \", totalreward, \" eps: \", eps)\n",
        "print(\"avg reward for last 100 episodes: \", totalrewards[-100:].mean())\n",
        "print(\"total steps: \", totalrewards.sum())\n",
        "\n",
        "plt.plot(totalrewards)"
      ],
      "execution_count": null,
      "outputs": [
        {
          "output_type": "stream",
          "text": [
            "episode:  0  total reward:  30.0  eps:  1.0\n",
            "episode:  100  total reward:  51.0  eps:  0.09950371902099892\n",
            "episode:  200  total reward:  72.0  eps:  0.07053456158585983\n",
            "episode:  300  total reward:  53.0  eps:  0.0576390417704235\n",
            "episode:  400  total reward:  49.0  eps:  0.04993761694389223\n",
            "episode:  500  total reward:  109.0  eps:  0.04467670516087703\n",
            "episode:  600  total reward:  120.0  eps:  0.04079085082240021\n",
            "episode:  700  total reward:  132.0  eps:  0.0377694787300249\n",
            "episode:  800  total reward:  119.0  eps:  0.03533326266687867\n",
            "episode:  900  total reward:  41.0  eps:  0.03331483023263848\n",
            "episode:  1000  total reward:  119.0  eps:  0.0316069770620507\n",
            "episode:  1100  total reward:  107.0  eps:  0.03013743873394561\n",
            "episode:  1200  total reward:  106.0  eps:  0.028855492841238062\n",
            "episode:  1300  total reward:  119.0  eps:  0.027724348650071385\n",
            "episode:  1400  total reward:  45.0  eps:  0.02671658425726324\n",
            "episode:  1500  total reward:  200.0  eps:  0.025811286645983367\n",
            "episode:  1600  total reward:  124.0  eps:  0.02499219116020307\n",
            "episode:  1700  total reward:  175.0  eps:  0.024246432248443597\n",
            "episode:  1800  total reward:  149.0  eps:  0.02356368148131365\n",
            "episode:  1900  total reward:  176.0  eps:  0.02293553851298437\n",
            "episode:  2000  total reward:  150.0  eps:  0.022355091700494795\n",
            "episode:  2100  total reward:  144.0  eps:  0.021816595214404266\n",
            "episode:  2200  total reward:  123.0  eps:  0.021315227815974374\n",
            "episode:  2300  total reward:  73.0  eps:  0.02084690996125416\n",
            "episode:  2400  total reward:  70.0  eps:  0.02040816326530612\n",
            "episode:  2500  total reward:  83.0  eps:  0.01999600119960014\n",
            "episode:  2600  total reward:  190.0  eps:  0.0196078431372549\n",
            "episode:  2700  total reward:  159.0  eps:  0.019241446072101123\n",
            "episode:  2800  total reward:  132.0  eps:  0.018894849871330582\n",
            "episode:  2900  total reward:  164.0  eps:  0.018566333001716968\n",
            "episode:  3000  total reward:  146.0  eps:  0.01825437644092281\n",
            "episode:  3100  total reward:  200.0  eps:  0.017957634043632188\n",
            "episode:  3200  total reward:  152.0  eps:  0.01767490804100673\n",
            "episode:  3300  total reward:  159.0  eps:  0.01740512865461766\n",
            "episode:  3400  total reward:  168.0  eps:  0.017147337032429676\n",
            "episode:  3500  total reward:  200.0  eps:  0.01690067088544646\n",
            "episode:  3600  total reward:  193.0  eps:  0.016664352333993333\n",
            "episode:  3700  total reward:  195.0  eps:  0.016437677572823703\n",
            "episode:  3800  total reward:  174.0  eps:  0.01622000804188198\n",
            "episode:  3900  total reward:  200.0  eps:  0.01601076285016887\n",
            "episode:  4000  total reward:  153.0  eps:  0.015809412247806517\n",
            "episode:  4100  total reward:  170.0  eps:  0.015615471979112765\n",
            "episode:  4200  total reward:  141.0  eps:  0.015428498379527544\n",
            "episode:  4300  total reward:  200.0  eps:  0.015248084103296531\n",
            "episode:  4400  total reward:  142.0  eps:  0.015073854388204487\n",
            "episode:  4500  total reward:  200.0  eps:  0.014905463779355262\n",
            "episode:  4600  total reward:  145.0  eps:  0.014742593246782542\n",
            "episode:  4700  total reward:  144.0  eps:  0.014584947642137372\n",
            "episode:  4800  total reward:  171.0  eps:  0.014432253448298278\n",
            "episode:  4900  total reward:  170.0  eps:  0.014284256782850143\n",
            "episode:  5000  total reward:  130.0  eps:  0.014140721622265264\n",
            "episode:  5100  total reward:  158.0  eps:  0.014001428218521149\n",
            "episode:  5200  total reward:  200.0  eps:  0.013866171683985996\n",
            "episode:  5300  total reward:  197.0  eps:  0.013734760723838819\n",
            "episode:  5400  total reward:  152.0  eps:  0.013607016498184134\n",
            "episode:  5500  total reward:  155.0  eps:  0.013482771598464758\n",
            "episode:  5600  total reward:  179.0  eps:  0.01336186912484746\n",
            "episode:  5700  total reward:  200.0  eps:  0.013244161853017133\n",
            "episode:  5800  total reward:  200.0  eps:  0.013129511480316922\n",
            "episode:  5900  total reward:  163.0  eps:  0.013017787942456283\n",
            "episode:  6000  total reward:  159.0  eps:  0.012908868793110689\n",
            "episode:  6100  total reward:  188.0  eps:  0.012802638639684321\n",
            "episode:  6200  total reward:  125.0  eps:  0.012698988629324323\n",
            "episode:  6300  total reward:  192.0  eps:  0.012597815979981676\n",
            "episode:  6400  total reward:  169.0  eps:  0.01249902355192602\n",
            "episode:  6500  total reward:  163.0  eps:  0.01240251945565374\n",
            "episode:  6600  total reward:  192.0  eps:  0.01230821669259179\n",
            "episode:  6700  total reward:  152.0  eps:  0.012216032825403858\n",
            "episode:  6800  total reward:  157.0  eps:  0.01212588967505907\n",
            "episode:  6900  total reward:  178.0  eps:  0.0120377130421331\n",
            "episode:  7000  total reward:  123.0  eps:  0.011951432450083671\n",
            "episode:  7100  total reward:  138.0  eps:  0.011866980908481739\n",
            "episode:  7200  total reward:  181.0  eps:  0.01178429469439066\n",
            "episode:  7300  total reward:  140.0  eps:  0.011703313150272007\n",
            "episode:  7400  total reward:  165.0  eps:  0.011623978496961555\n",
            "episode:  7500  total reward:  148.0  eps:  0.01154623566040508\n",
            "episode:  7600  total reward:  57.0  eps:  0.011470032110973345\n",
            "episode:  7700  total reward:  200.0  eps:  0.011395317714291038\n",
            "episode:  7800  total reward:  167.0  eps:  0.011322044592617122\n",
            "episode:  7900  total reward:  78.0  eps:  0.011250166995905777\n",
            "episode:  8000  total reward:  200.0  eps:  0.01117964118175896\n",
            "episode:  8100  total reward:  200.0  eps:  0.011110425303554916\n",
            "episode:  8200  total reward:  154.0  eps:  0.0110424793061026\n",
            "episode:  8300  total reward:  137.0  eps:  0.010975764828230913\n",
            "episode:  8400  total reward:  200.0  eps:  0.010910245111774533\n",
            "episode:  8500  total reward:  200.0  eps:  0.01084588491646583\n",
            "episode:  8600  total reward:  152.0  eps:  0.010782650440285157\n",
            "episode:  8700  total reward:  164.0  eps:  0.010720509244860595\n",
            "episode:  8800  total reward:  200.0  eps:  0.010659430185543134\n",
            "episode:  8900  total reward:  200.0  eps:  0.01059938334581489\n",
            "episode:  9000  total reward:  140.0  eps:  0.010540339975716555\n",
            "episode:  9100  total reward:  200.0  eps:  0.010482272434006255\n",
            "episode:  9200  total reward:  148.0  eps:  0.010425154133785426\n",
            "episode:  9300  total reward:  117.0  eps:  0.01036895949134883\n",
            "episode:  9400  total reward:  145.0  eps:  0.010313663878035112\n",
            "episode:  9500  total reward:  200.0  eps:  0.010259243574872122\n",
            "episode:  9600  total reward:  190.0  eps:  0.010205675729827259\n",
            "episode:  9700  total reward:  200.0  eps:  0.010152938317487875\n",
            "episode:  9800  total reward:  200.0  eps:  0.010101010101010102\n",
            "episode:  9900  total reward:  85.0  eps:  0.010049870596186849\n",
            "avg reward for last 100 episodes:  180.83\n",
            "total steps:  1518601.0\n"
          ],
          "name": "stdout"
        },
        {
          "output_type": "execute_result",
          "data": {
            "text/plain": [
              "[<matplotlib.lines.Line2D at 0x7f85756644d0>]"
            ]
          },
          "metadata": {
            "tags": []
          },
          "execution_count": 34
        },
        {
          "output_type": "display_data",
          "data": {
            "image/png": "[encoded data removed]",
            "text/plain": [
              "<Figure size 432x288 with 1 Axes>"
            ]
          },
          "metadata": {
            "tags": [],
            "needs_background": "light"
          }
        }
      ]
    },
    {
      "cell_type": "code",
      "metadata": {
        "colab": {
          "base_uri": "https://localhost:8080/",
          "height": 265
        },
        "id": "ug0xWMmrpjRb",
        "outputId": "de7b72c3-64eb-47b3-de89-27e225e05ad6"
      },
      "source": [
        "plot_running_avg(totalrewards)"
      ],
      "execution_count": null,
      "outputs": [
        {
          "output_type": "display_data",
          "data": {
            "image/png": "[encoded data removed]",
            "text/plain": [
              "<Figure size 432x288 with 1 Axes>"
            ]
          },
          "metadata": {
            "tags": [],
            "needs_background": "light"
          }
        }
      ]
    },
    {
      "cell_type": "code",
      "metadata": {
        "id": "EizNfQsNrmbp"
      },
      "source": [
        ""
      ],
      "execution_count": null,
      "outputs": []
    }
  ]
}